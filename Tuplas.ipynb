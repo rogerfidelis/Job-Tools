{
  "nbformat": 4,
  "nbformat_minor": 0,
  "metadata": {
    "colab": {
      "name": "Tuplas.ipynb",
      "provenance": [],
      "authorship_tag": "ABX9TyPd0m4Q73yxqph5BC0v7+dS",
      "include_colab_link": true
    },
    "kernelspec": {
      "name": "python3",
      "display_name": "Python 3"
    }
  },
  "cells": [
    {
      "cell_type": "markdown",
      "metadata": {
        "id": "view-in-github",
        "colab_type": "text"
      },
      "source": [
        "<a href=\"https://colab.research.google.com/github/rogerfidelis/Job-Tools/blob/master/Tuplas.ipynb\" target=\"_parent\"><img src=\"https://colab.research.google.com/assets/colab-badge.svg\" alt=\"Open In Colab\"/></a>"
      ]
    },
    {
      "cell_type": "markdown",
      "metadata": {
        "id": "6pJWpbXA-6IR",
        "colab_type": "text"
      },
      "source": [
        "# **Tuplas**\n",
        "Iniciando o tutorial de aprendizagem de tuplas em python do curso do Gustavo Guanabana\n",
        "\n",
        "link: https://www.youtube.com/watch?v=0LB3FSfjvao"
      ]
    },
    {
      "cell_type": "code",
      "metadata": {
        "id": "kD7Lmrc0-1UJ",
        "colab_type": "code",
        "colab": {
          "base_uri": "https://localhost:8080/",
          "height": 102
        },
        "outputId": "5aae375a-cbc8-4555-c9fc-fd0784df392f"
      },
      "source": [
        "lanche = (\"Hamburguer\",\"Suco\",\"Pizza\",\"Batata frita\",\"Pudim\")\n",
        "\n",
        "for comida in lanche:\n",
        "  print (comida)"
      ],
      "execution_count": 2,
      "outputs": [
        {
          "output_type": "stream",
          "text": [
            "Hamburguer\n",
            "Suco\n",
            "Pizza\n",
            "Batata frita\n",
            "Pudim\n"
          ],
          "name": "stdout"
        }
      ]
    },
    {
      "cell_type": "code",
      "metadata": {
        "id": "dk5IRhJVAeQj",
        "colab_type": "code",
        "colab": {
          "base_uri": "https://localhost:8080/",
          "height": 102
        },
        "outputId": "e6356024-507a-4bd8-88b7-09677e4c14b5"
      },
      "source": [
        "for cont in range(0, len(lanche)):\n",
        "  print (f\"Eu vou comer {lanche[cont]} na posição {cont}\")"
      ],
      "execution_count": 3,
      "outputs": [
        {
          "output_type": "stream",
          "text": [
            "Eu vou comer Hamburguer na posição 0\n",
            "Eu vou comer Suco na posição 1\n",
            "Eu vou comer Pizza na posição 2\n",
            "Eu vou comer Batata frita na posição 3\n",
            "Eu vou comer Pudim na posição 4\n"
          ],
          "name": "stdout"
        }
      ]
    },
    {
      "cell_type": "code",
      "metadata": {
        "id": "RImdgmqtBBcM",
        "colab_type": "code",
        "colab": {
          "base_uri": "https://localhost:8080/",
          "height": 102
        },
        "outputId": "d5a2cf1e-73cf-4474-a3e8-3f91ed551d46"
      },
      "source": [
        "for pos, comida in enumerate(lanche):\n",
        "  print(f\"Eu vou comer {comida} na posição {pos}\")"
      ],
      "execution_count": 4,
      "outputs": [
        {
          "output_type": "stream",
          "text": [
            "Eu vou comer Hamburguer na posição 0\n",
            "Eu vou comer Suco na posição 1\n",
            "Eu vou comer Pizza na posição 2\n",
            "Eu vou comer Batata frita na posição 3\n",
            "Eu vou comer Pudim na posição 4\n"
          ],
          "name": "stdout"
        }
      ]
    }
  ]
}
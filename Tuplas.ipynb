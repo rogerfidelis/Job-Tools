{
  "nbformat": 4,
  "nbformat_minor": 0,
  "metadata": {
    "colab": {
      "name": "Tuplas.ipynb",
      "provenance": [],
      "collapsed_sections": [],
      "authorship_tag": "ABX9TyOD0W26DuVF3J8ZIzMBWN8D",
      "include_colab_link": true
    },
    "kernelspec": {
      "name": "python3",
      "display_name": "Python 3"
    }
  },
  "cells": [
    {
      "cell_type": "markdown",
      "metadata": {
        "id": "view-in-github",
        "colab_type": "text"
      },
      "source": [
        "<a href=\"https://colab.research.google.com/github/rogerfidelis/Job-Tools/blob/master/Tuplas.ipynb\" target=\"_parent\"><img src=\"https://colab.research.google.com/assets/colab-badge.svg\" alt=\"Open In Colab\"/></a>"
      ]
    },
    {
      "cell_type": "markdown",
      "metadata": {
        "id": "6pJWpbXA-6IR",
        "colab_type": "text"
      },
      "source": [
        "# **Tuplas**\n",
        "Iniciando o tutorial de aprendizagem de tuplas em python do curso do Gustavo Guanabana\n",
        "\n",
        "link: https://www.youtube.com/watch?v=0LB3FSfjvao"
      ]
    },
    {
      "cell_type": "code",
      "metadata": {
        "id": "kD7Lmrc0-1UJ",
        "colab_type": "code",
        "colab": {
          "base_uri": "https://localhost:8080/",
          "height": 102
        },
        "outputId": "64ebaf47-1352-4994-ca04-4085beca9b8b"
      },
      "source": [
        "lanche = (\"Hamburguer\",\"Suco\",\"Pizza\",\"Batata frita\",\"Pudim\")\n",
        "\n",
        "for comida in lanche:\n",
        "  print (comida)"
      ],
      "execution_count": 2,
      "outputs": [
        {
          "output_type": "stream",
          "text": [
            "Hamburguer\n",
            "Suco\n",
            "Pizza\n",
            "Batata frita\n",
            "Pudim\n"
          ],
          "name": "stdout"
        }
      ]
    },
    {
      "cell_type": "code",
      "metadata": {
        "id": "dk5IRhJVAeQj",
        "colab_type": "code",
        "colab": {
          "base_uri": "https://localhost:8080/",
          "height": 102
        },
        "outputId": "e6356024-507a-4bd8-88b7-09677e4c14b5"
      },
      "source": [
        "for cont in range(0, len(lanche)):\n",
        "  print (f\"Eu vou comer {lanche[cont]} na posição {cont}\")"
      ],
      "execution_count": null,
      "outputs": [
        {
          "output_type": "stream",
          "text": [
            "Eu vou comer Hamburguer na posição 0\n",
            "Eu vou comer Suco na posição 1\n",
            "Eu vou comer Pizza na posição 2\n",
            "Eu vou comer Batata frita na posição 3\n",
            "Eu vou comer Pudim na posição 4\n"
          ],
          "name": "stdout"
        }
      ]
    },
    {
      "cell_type": "code",
      "metadata": {
        "id": "RImdgmqtBBcM",
        "colab_type": "code",
        "colab": {
          "base_uri": "https://localhost:8080/",
          "height": 102
        },
        "outputId": "d5a2cf1e-73cf-4474-a3e8-3f91ed551d46"
      },
      "source": [
        "for pos, comida in enumerate(lanche):\n",
        "  print(f\"Eu vou comer {comida} na posição {pos}\")"
      ],
      "execution_count": null,
      "outputs": [
        {
          "output_type": "stream",
          "text": [
            "Eu vou comer Hamburguer na posição 0\n",
            "Eu vou comer Suco na posição 1\n",
            "Eu vou comer Pizza na posição 2\n",
            "Eu vou comer Batata frita na posição 3\n",
            "Eu vou comer Pudim na posição 4\n"
          ],
          "name": "stdout"
        }
      ]
    },
    {
      "cell_type": "code",
      "metadata": {
        "id": "LXnXfbwqR_3x",
        "colab_type": "code",
        "colab": {
          "base_uri": "https://localhost:8080/",
          "height": 34
        },
        "outputId": "91dd25b1-30ee-4cbf-eae1-e753c35018ed"
      },
      "source": [
        "print(sorted(lanche))\n"
      ],
      "execution_count": 3,
      "outputs": [
        {
          "output_type": "stream",
          "text": [
            "['Batata frita', 'Hamburguer', 'Pizza', 'Pudim', 'Suco']\n"
          ],
          "name": "stdout"
        }
      ]
    },
    {
      "cell_type": "code",
      "metadata": {
        "id": "5grQpSmTSXsS",
        "colab_type": "code",
        "colab": {
          "base_uri": "https://localhost:8080/",
          "height": 51
        },
        "outputId": "5c46e025-e01e-42cf-986f-f9cde329a00c"
      },
      "source": [
        "a = (2,5,4)\n",
        "b = (5,8,1,2)\n",
        "\n",
        "c = a+b\n",
        "d = b+a\n",
        "\n",
        "print(c)\n",
        "print(d)"
      ],
      "execution_count": 5,
      "outputs": [
        {
          "output_type": "stream",
          "text": [
            "(2, 5, 4, 5, 8, 1, 2)\n",
            "(5, 8, 1, 2, 2, 5, 4)\n"
          ],
          "name": "stdout"
        }
      ]
    },
    {
      "cell_type": "code",
      "metadata": {
        "id": "gG_XAoYwS0_6",
        "colab_type": "code",
        "colab": {
          "base_uri": "https://localhost:8080/",
          "height": 51
        },
        "outputId": "39833edf-6eeb-44ab-a9e5-83a2bec8924c"
      },
      "source": [
        "#posição do elemento na tupla, a segunda variável pede leitura apartir de:\n",
        "print(c.index(2,1))\n",
        "\n",
        "#Número de repetições do elemento na tupla\n",
        "print(c.count(4))"
      ],
      "execution_count": 9,
      "outputs": [
        {
          "output_type": "stream",
          "text": [
            "6\n",
            "1\n"
          ],
          "name": "stdout"
        }
      ]
    },
    {
      "cell_type": "code",
      "metadata": {
        "id": "uzgKrz4dTuu_",
        "colab_type": "code",
        "colab": {
          "base_uri": "https://localhost:8080/",
          "height": 34
        },
        "outputId": "97c325e2-39c3-4fcc-db0f-a7f7c706ffce"
      },
      "source": [
        "pessoa = (\"Roger\", 39, \"M\", 60.00)\n",
        "print(pessoa)"
      ],
      "execution_count": 10,
      "outputs": [
        {
          "output_type": "stream",
          "text": [
            "('Roger', 39, 'M', 60.0)\n"
          ],
          "name": "stdout"
        }
      ]
    },
    {
      "cell_type": "markdown",
      "metadata": {
        "id": "IoFVb6moXPFp",
        "colab_type": "text"
      },
      "source": [
        "Exercícios de Tuplas"
      ]
    },
    {
      "cell_type": "code",
      "metadata": {
        "id": "dgfCbcxNXGwL",
        "colab_type": "code",
        "colab": {
          "base_uri": "https://localhost:8080/",
          "height": 90
        },
        "outputId": "75def91c-023d-4299-e4ca-bef03aca4ae7"
      },
      "source": [
        "# (072) Crie um programa que tenha uma tupla totalmente preenchida com uma contagem por extenso de zero a vinte.\n",
        "# seu programa deverá ler um número pelo teclado (entre 0 e 20) e mostrá-lo por extenso.\n",
        "\n",
        "numeros = (\"zero\",\"um\",\"dois\",\"tres\",\"quatro\",\"cinco\",\"seis\",\"sete\",\"oito\",\"nove\",\"dez\")\n",
        "\n",
        "while True:\n",
        "      n = int(input(\"digite um número entre 0 e 10:\"))\n",
        "      if 0<= n <=10:\n",
        "        break\n",
        "      print(\"tente novamente.\")\n",
        "\n",
        "print(f\"você digitou: {numeros[int(n)]}\")\n"
      ],
      "execution_count": null,
      "outputs": [
        {
          "output_type": "stream",
          "text": [
            "digite um número entre 0 e 10:67\n",
            "tente novamente.\n"
          ],
          "name": "stdout"
        }
      ]
    },
    {
      "cell_type": "markdown",
      "metadata": {
        "id": "jqu2vMWuXPCi",
        "colab_type": "text"
      },
      "source": [
        ""
      ]
    }
  ]
}
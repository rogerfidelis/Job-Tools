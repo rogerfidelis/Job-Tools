{
  "nbformat": 4,
  "nbformat_minor": 0,
  "metadata": {
    "colab": {
      "name": "Tuplas exe02.ipynb",
      "provenance": [],
      "authorship_tag": "ABX9TyN0+/wzSBZWxJZ7Jh8NeYZb",
      "include_colab_link": true
    },
    "kernelspec": {
      "name": "python3",
      "display_name": "Python 3"
    }
  },
  "cells": [
    {
      "cell_type": "markdown",
      "metadata": {
        "id": "view-in-github",
        "colab_type": "text"
      },
      "source": [
        "<a href=\"https://colab.research.google.com/github/rogerfidelis/Job-Tools/blob/master/Tuplas_exe02.ipynb\" target=\"_parent\"><img src=\"https://colab.research.google.com/assets/colab-badge.svg\" alt=\"Open In Colab\"/></a>"
      ]
    },
    {
      "cell_type": "markdown",
      "metadata": {
        "id": "MOztbd-vc8Qx",
        "colab_type": "text"
      },
      "source": [
        "# Tupla exe02\n"
      ]
    },
    {
      "cell_type": "markdown",
      "metadata": {
        "id": "iig1EGtkdGFl",
        "colab_type": "text"
      },
      "source": [
        "Crie uma tupla preenchida com os 20 primeiros colocados da Tabela do campionato braileiro de futebol, na ordem de colocação. Depois mostre:\n",
        "\n",
        "a) Os 5 primeiros|\n",
        "b) Os últimos 4 colocados.|\n",
        "c) Times em ordem alfbética.|\n",
        "d) Em que posição está o time do Vas\n",
        "co.\n"
      ]
    },
    {
      "cell_type": "code",
      "metadata": {
        "id": "34MLaVG2c3SG",
        "colab_type": "code",
        "colab": {
          "base_uri": "https://localhost:8080/",
          "height": 870
        },
        "outputId": "8be93318-835c-4822-c167-e5abe2401500"
      },
      "source": [
        "times = ('atletico-MG', 'internacional', 'são paulo',\n",
        "          'palmeiras', 'vasco', 'flamengo', 'sport',\n",
        "         'santos', 'fortaleza', 'fluminense', 'ceará',\n",
        "        'grêmio', 'corinthias', 'atlético-GO', 'athletico-PR',\n",
        "        'coritiba', 'bragantino-SP', 'botafogo', 'bahia',\n",
        "         'goiás')\n",
        "\n",
        "for t in times:\n",
        "  print(t)\n",
        "  print('-=' *15)\n",
        "\n",
        "print (f'lista de times: {times}')\n",
        "print('-=' *15)\n",
        "print(f'os 5 primeiros: {times[0:5]}')\n",
        "print('-=' *15)\n",
        "print(f'os 4 últimos: {times[-4:]}')\n",
        "print('-=' *15)\n",
        "print(f'times em ordem alfabética:{sorted(times)}')\n",
        "print('-=' *15)\n",
        "print(f'O Vasco esta na {times.index(\"vasco\")+1}º posição')"
      ],
      "execution_count": 17,
      "outputs": [
        {
          "output_type": "stream",
          "text": [
            "atletico-MG\n",
            "-=-=-=-=-=-=-=-=-=-=-=-=-=-=-=\n",
            "internacional\n",
            "-=-=-=-=-=-=-=-=-=-=-=-=-=-=-=\n",
            "são paulo\n",
            "-=-=-=-=-=-=-=-=-=-=-=-=-=-=-=\n",
            "palmeiras\n",
            "-=-=-=-=-=-=-=-=-=-=-=-=-=-=-=\n",
            "vasco\n",
            "-=-=-=-=-=-=-=-=-=-=-=-=-=-=-=\n",
            "flamengo\n",
            "-=-=-=-=-=-=-=-=-=-=-=-=-=-=-=\n",
            "sport\n",
            "-=-=-=-=-=-=-=-=-=-=-=-=-=-=-=\n",
            "santos\n",
            "-=-=-=-=-=-=-=-=-=-=-=-=-=-=-=\n",
            "fortaleza\n",
            "-=-=-=-=-=-=-=-=-=-=-=-=-=-=-=\n",
            "fluminense\n",
            "-=-=-=-=-=-=-=-=-=-=-=-=-=-=-=\n",
            "ceará\n",
            "-=-=-=-=-=-=-=-=-=-=-=-=-=-=-=\n",
            "grêmio\n",
            "-=-=-=-=-=-=-=-=-=-=-=-=-=-=-=\n",
            "corinthias\n",
            "-=-=-=-=-=-=-=-=-=-=-=-=-=-=-=\n",
            "atlético-GO\n",
            "-=-=-=-=-=-=-=-=-=-=-=-=-=-=-=\n",
            "athletico-PR\n",
            "-=-=-=-=-=-=-=-=-=-=-=-=-=-=-=\n",
            "coritiba\n",
            "-=-=-=-=-=-=-=-=-=-=-=-=-=-=-=\n",
            "bragantino-SP\n",
            "-=-=-=-=-=-=-=-=-=-=-=-=-=-=-=\n",
            "botafogo\n",
            "-=-=-=-=-=-=-=-=-=-=-=-=-=-=-=\n",
            "bahia\n",
            "-=-=-=-=-=-=-=-=-=-=-=-=-=-=-=\n",
            "goiás\n",
            "-=-=-=-=-=-=-=-=-=-=-=-=-=-=-=\n",
            "lista de times: ('atletico-MG', 'internacional', 'são paulo', 'palmeiras', 'vasco', 'flamengo', 'sport', 'santos', 'fortaleza', 'fluminense', 'ceará', 'grêmio', 'corinthias', 'atlético-GO', 'athletico-PR', 'coritiba', 'bragantino-SP', 'botafogo', 'bahia', 'goiás')\n",
            "-=-=-=-=-=-=-=-=-=-=-=-=-=-=-=\n",
            "os 5 primeiros: ('atletico-MG', 'internacional', 'são paulo', 'palmeiras', 'vasco')\n",
            "-=-=-=-=-=-=-=-=-=-=-=-=-=-=-=\n",
            "os 4 últimos: ('bragantino-SP', 'botafogo', 'bahia', 'goiás')\n",
            "-=-=-=-=-=-=-=-=-=-=-=-=-=-=-=\n",
            "times em ordem alfabética:['athletico-PR', 'atletico-MG', 'atlético-GO', 'bahia', 'botafogo', 'bragantino-SP', 'ceará', 'corinthias', 'coritiba', 'flamengo', 'fluminense', 'fortaleza', 'goiás', 'grêmio', 'internacional', 'palmeiras', 'santos', 'sport', 'são paulo', 'vasco']\n",
            "-=-=-=-=-=-=-=-=-=-=-=-=-=-=-=\n",
            "O Vasco esta na 5º posição\n"
          ],
          "name": "stdout"
        }
      ]
    },
    {
      "cell_type": "code",
      "metadata": {
        "id": "3BT-y_AVdB3p",
        "colab_type": "code",
        "colab": {}
      },
      "source": [
        ""
      ],
      "execution_count": null,
      "outputs": []
    }
  ]
}